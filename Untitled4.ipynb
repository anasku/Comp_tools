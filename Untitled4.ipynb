{
 "cells": [
  {
   "cell_type": "markdown",
   "metadata": {},
   "source": [
    "## Sampling descrete distribution"
   ]
  },
  {
   "cell_type": "markdown",
   "metadata": {},
   "source": [
    "\n",
    "\n",
    "We want to sample numbers with random probabilities. For this we generate random numbers $r_i$ using uniform distribution in a range $[0,1]$. \n",
    "\n",
    "To copute the probabilities we use the formula :\n",
    "$$p_i=\\frac{r_i}{\\Sigma_i r_i}\\,.$$  \n",
    "Thus we created a list of random probabilities, to be sure that they are indeed probabilities we sum over all values of $p_i$ and get 1, as it should be. \n",
    "\n",
    "Next step is to sample from this descrete distribution."
   ]
  },
  {
   "cell_type": "code",
   "execution_count": 1,
   "metadata": {},
   "outputs": [
    {
     "name": "stdout",
     "output_type": "stream",
     "text": [
      "rand p_i= [0.28880464959537827, 0.20359798804693074, 0.23263741299470445, 0.073977614758344093, 0.20098233460464232]\n",
      "the sum of p_is is  1.0\n"
     ]
    }
   ],
   "source": [
    "import random\n",
    "import numpy as np\n",
    "import matplotlib.pyplot as plt\n",
    "import time\n",
    "import math\n",
    "from math import log\n",
    "from math import exp\n",
    "\n",
    "#startTime = time.time()\n",
    "n_items=5\n",
    "s=np.random.uniform(0,1,n_items)\n",
    "z=sum(s)\n",
    "proba=[]\n",
    "f=0\n",
    "for i in s:\n",
    "    f += i/z\n",
    "    proba.append(f)\n",
    "    f=0\n",
    "#elapsedTime= time.time()-startTime\n",
    "#print(\"time of the procedure\",elapsedTime)\n",
    "print(\"rand p_i=\", proba)\n",
    "print(\"the sum of p_is is \", sum(proba))\n"
   ]
  },
  {
   "cell_type": "markdown",
   "metadata": {},
   "source": [
    "### 1.Accept/ reject procedure\n",
    "\n",
    "We sample descrete distribution generated above for $n_{item}=5$. "
   ]
  },
  {
   "cell_type": "code",
   "execution_count": 2,
   "metadata": {},
   "outputs": [
    {
     "name": "stdout",
     "output_type": "stream",
     "text": [
      "sampled_proba= [0.2835, 0.2072, 0.2356, 0.0742, 0.2038]\n",
      "theoretical_proba= [0.28880464959537827, 0.20359798804693074, 0.23263741299470445, 0.073977614758344093, 0.20098233460464232]\n"
     ]
    },
    {
     "data": {
      "image/png": "[encoded data removed]",
      "text/plain": [
       "<matplotlib.figure.Figure at 0x1f67ace6da0>"
      ]
     },
     "metadata": {},
     "output_type": "display_data"
    }
   ],
   "source": [
    "def acc_method(n_runs):\n",
    "    array=[]\n",
    "    f=0\n",
    "    for k in range(n_runs):\n",
    "        while True:\n",
    "            x=n_items*np.random.uniform(0,1)\n",
    "            y=n_items*np.random.uniform(0,1)\n",
    "            i=int(x)\n",
    "            y>proba[i]*n_items\n",
    "            if y<proba[i]*n_items:\n",
    "                break\n",
    "        f += i\n",
    "        array.append(f)\n",
    "        f=0\n",
    "    return array \n",
    "\n",
    "def acc_proba(n_runs):\n",
    "    sampl_proba=[]\n",
    "    p=0\n",
    "    for m in range(n_items):\n",
    "        p=acc_method(n_runs).count(m)/n_runs\n",
    "        sampl_proba.append(p)\n",
    "        p=0\n",
    "    return sampl_proba\n",
    "\n",
    "print(\"sampled_proba=\",acc_proba(10000))\n",
    "print(\"theoretical_proba=\",proba) \n",
    "\n",
    "plt.hist(acc_method(10000),normed=True, bins=list(range(0,n_items+1)),width=0.9,color='orange',label=\"Sampled distribution\")\n",
    "\n",
    "objects = list(range(0,n_items))\n",
    "y_pos = np.arange(len(objects))\n",
    "plt.bar(y_pos, proba, align='edge',color='green',alpha=1,width=0.5,label=\"Theoretical distribution\")\n",
    "plt.xticks(y_pos, objects)\n",
    "plt.xlabel('$i$')\n",
    "plt.ylabel('$P_i$')\n",
    "plt.title('Accept/reject sampling')\n",
    "plt.legend()\n",
    "plt.show()\n",
    "\n"
   ]
  },
  {
   "cell_type": "markdown",
   "metadata": {},
   "source": [
    "### 2.Tower sampling\n"
   ]
  },
  {
   "cell_type": "code",
   "execution_count": 3,
   "metadata": {},
   "outputs": [
    {
     "name": "stdout",
     "output_type": "stream",
     "text": [
      "p_i_sampled= [0.2884, 0.1968, 0.2355, 0.0711, 0.2023]\n",
      "p_i_original= [0.28880464959537827, 0.20359798804693074, 0.23263741299470445, 0.073977614758344093, 0.20098233460464232]\n"
     ]
    },
    {
     "data": {
      "image/png": "[encoded data removed]",
      "text/plain": [
       "<matplotlib.figure.Figure at 0x1f67c832cc0>"
      ]
     },
     "metadata": {},
     "output_type": "display_data"
    }
   ],
   "source": [
    "def tower_method(n_runs):\n",
    "    cum=[]\n",
    "    f=0\n",
    "    for i in range(n_items+1):\n",
    "        f=sum(proba[:i])\n",
    "        cum.append(f)\n",
    "        f=0        \n",
    "    tower=[]\n",
    "    g=0\n",
    "    for k in range(n_runs):\n",
    "        x=np.random.uniform(0,1)\n",
    "        i=0\n",
    "        while True:\n",
    "            x>cum[i]\n",
    "            i=i+1\n",
    "            if x<cum[i]:\n",
    "                break\n",
    "        g+=i-1\n",
    "        tower.append(g)\n",
    "        g=0\n",
    "    return tower\n",
    "\n",
    "def tower_proba(n_runs):\n",
    "    sampl_tower=[]\n",
    "    p=0\n",
    "    for m in range(n_items):\n",
    "        p=tower_method(n_runs).count(m)/n_runs\n",
    "        sampl_tower.append(p)\n",
    "        p=0\n",
    "    return sampl_tower   \n",
    "print(\"p_i_sampled=\",tower_proba(10000)) \n",
    "print(\"p_i_original=\",proba)\n",
    "plt.hist(tower_method(10000),normed=True, bins=list(range(0,n_items+1)),width=0.9,color='orange',label=\"Sampled distribution\")\n",
    "objects = list(range(0,n_items))\n",
    "y_pos = np.arange(len(objects))\n",
    "plt.bar(y_pos, proba, align='edge',color='green',alpha=1,width=0.5,label=\"Theoretical distribution\")\n",
    "plt.xticks(y_pos, objects)\n",
    "plt.xlabel('$i$')\n",
    "plt.ylabel('$P_i$')\n",
    "plt.title('Tower Sampling')\n",
    "plt.legend()\n",
    "\n",
    "plt.show()\n",
    "\n",
    "\n",
    "\n"
   ]
  },
  {
   "cell_type": "markdown",
   "metadata": {},
   "source": [
    "### 3.Time estimation"
   ]
  },
  {
   "cell_type": "code",
   "execution_count": 4,
   "metadata": {},
   "outputs": [],
   "source": [
    "n_items=10\n",
    "n_points=100000\n",
    "\n",
    "\n",
    "def accept(n_runs,n_item):\n",
    "    np.random.seed(2)\n",
    "    s=np.random.uniform(0,1,n_item)\n",
    "    z=sum(s)\n",
    "    rand_proba=[]\n",
    "    f=0\n",
    "    for i in s:\n",
    "        f += i/z\n",
    "        rand_proba.append(f)\n",
    "        f=0 #at this stage we generated random probabilities rand_proba\n",
    "    array=[]\n",
    "    g=0\n",
    "    for k in range(n_runs):\n",
    "        while True:\n",
    "            x=n_item*np.random.uniform(0,1)\n",
    "            y=n_item*np.random.uniform(0,1)\n",
    "            i=int(x)\n",
    "            y>rand_proba[i]*n_item\n",
    "            if y<rand_proba[i]*n_item:\n",
    "                break\n",
    "        g += i\n",
    "        array.append(g)\n",
    "        g=0 #in this part we sampled according to rand_proba\n",
    "    sampl_proba=[]\n",
    "    p=0\n",
    "    for m in range(n_item):\n",
    "        p=array.count(m)/n_runs\n",
    "        sampl_proba.append(p)\n",
    "        p=0#here I calculate the proba_sampled\n",
    "    return {'accept_gen':array,'theor_proba':rand_proba,'accept_proba':sampl_proba}\n",
    "\n",
    "\n",
    "#print(\"sampled_proba=\",accept(n_points,n_items)['accept_proba'])\n",
    "#print(\"theoretical_proba=\",accept(n_points,n_items)['theor_proba'])\n",
    "\n",
    "#plt.hist(accept(n_points,n_items)['accept_gen'],normed=True, \n",
    " #        bins=list(range(0,n_items+1)),width=0.9,color='orange',label=\"Sampled distribution\")\n",
    "\n",
    "#objects = list(range(0,n_items))\n",
    "#y_pos = np.arange(len(objects))\n",
    "#plt.bar(y_pos, accept(n_points,n_items)['theor_proba'], \n",
    "#        align='edge',color='green',alpha=1,width=0.5,label=\"Theoretical distribution\")\n",
    "#plt.xlabel('$i$')\n",
    "#plt.ylabel('$P_i$')\n",
    "#plt.title('Accept/reject sampling')\n",
    "#plt.legend()\n",
    "#plt.show()\n",
    "\n",
    "\n",
    "\n"
   ]
  },
  {
   "cell_type": "code",
   "execution_count": 5,
   "metadata": {},
   "outputs": [],
   "source": [
    "def tower_function(n_runs,n_item):\n",
    "    np.random.seed(2)\n",
    "    s=np.random.uniform(0,1,n_item)\n",
    "    z=sum(s)\n",
    "    rand_p=[]\n",
    "    f=0\n",
    "    for i in s:\n",
    "        f += i/z\n",
    "        rand_p.append(f)\n",
    "        f=0 #at this stage we generated random probabilities rand_proba\n",
    "    rand_proba = [float(j) for j in rand_p]\n",
    "    cum=[]\n",
    "    q=0\n",
    "    for i in range(n_item+1):\n",
    "        q=sum(rand_proba[:i])\n",
    "        cum.append(q)\n",
    "        q=0        \n",
    "    tower=[]\n",
    "    g=0\n",
    "    for k in range(n_runs):\n",
    "        x=np.random.uniform(0,1)\n",
    "        i=0\n",
    "        while True:\n",
    "            x>cum[i]\n",
    "            i=i+1\n",
    "            if x<cum[i]:\n",
    "                break\n",
    "        g+=i-1\n",
    "        tower.append(g)\n",
    "        g=0\n",
    "    sampl_tower=[]\n",
    "    p=0\n",
    "    for m in range(n_item):\n",
    "        p=tower.count(m)/n_runs\n",
    "        sampl_tower.append(p)\n",
    "        p=0\n",
    "    return {'tower_gen':tower,'sampl_tower':sampl_tower,'rand_theor':rand_proba,'cum':cum}  \n",
    "\n",
    "#print('cumulants',tower_function(n_points,n_items)['cum'])\n",
    "#print(\"p_i_sampled=\",tower_function(n_points,n_items)['sampl_tower']) \n",
    "#print(\"p_i_original=\",tower_function(n_points,n_items)['rand_theor'])\n",
    "\n",
    "\n",
    "#plt.hist(tower_function(n_points,n_items)['tower_gen'],normed=True, \n",
    "#         bins=list(range(0,n_items+1)),width=0.9,color='orange',label=\"Sampled distribution\")\n",
    "\n",
    "#objects=[]\n",
    "#objects = list(range(0,n_items))\n",
    "#y_pos = np.arange(len(objects))\n",
    "#plt.bar(y_pos, tower_function(n_points,n_items)['rand_theor'],align='edge',\n",
    "#        color='green',alpha=1,width=0.3,label=\"Theoretical distribution\")\n",
    "#lt.xlabel('$i$')\n",
    "#plt.ylabel('$P_i$')\n",
    "#plt.title('Tower Sampling')\n",
    "#plt.legend()\n",
    "\n",
    "#plt.show()\n",
    "\n",
    "\n"
   ]
  },
  {
   "cell_type": "code",
   "execution_count": 7,
   "metadata": {},
   "outputs": [],
   "source": [
    "numbers=np.arange(10, 500, 50)  \n",
    "\n",
    "f=0\n",
    "timest_accept=[]\n",
    "elapsed=0\n",
    "start=0 \n",
    "for i in numbers:\n",
    "    start += time.time()\n",
    "    accept(10000,i)['accept_gen']\n",
    "    elapsed += time.time()-start\n",
    "    timest_accept.append(elapsed)\n",
    "    elapsed=0\n",
    "    start=0 \n",
    "    \n",
    "    \n",
    "\n",
    "f=0\n",
    "timest_tower=[]\n",
    "elapsed=0\n",
    "start=0 \n",
    "for i in numbers:\n",
    "    start += time.time()\n",
    "    tower_function(10000,i)['tower_gen']\n",
    "    elapsed += time.time()-start\n",
    "    timest_tower.append(elapsed)\n",
    "    elapsed=0\n",
    "    start=0  \n",
    "#print(\"time_tower\",timest_tower)\n",
    "#print(\"time_accept\",timest_accept)\n",
    "\n"
   ]
  },
  {
   "cell_type": "code",
   "execution_count": 8,
   "metadata": {},
   "outputs": [
    {
     "data": {
      "image/png": "[encoded data removed]",
      "text/plain": [
       "<matplotlib.figure.Figure at 0x1f67d71eb70>"
      ]
     },
     "metadata": {},
     "output_type": "display_data"
    }
   ],
   "source": [
    "y_pos = np.arange(len(numbers))\n",
    "plt.bar(y_pos, timest_tower,align='edge',\n",
    "        color='green',alpha=1,width=0.8,label=\"Tower\")\n",
    "plt.bar(y_pos, timest_accept,align='edge',\n",
    "        color='yellow',alpha=1,width=0.3,label=\"Accept\")\n",
    "plt.xlabel('$n_{items}$')\n",
    "plt.ylabel('$time$')\n",
    "plt.title('Sampling Time Growth')\n",
    "plt.legend()\n",
    "\n",
    "plt.show()        \n"
   ]
  },
  {
   "cell_type": "markdown",
   "metadata": {
    "collapsed": true
   },
   "source": [
    "### 4. The same procedure of time estimation for exponential law"
   ]
  },
  {
   "cell_type": "code",
   "execution_count": 9,
   "metadata": {},
   "outputs": [
    {
     "data": {
      "image/png": "[encoded data removed]",
      "text/plain": [
       "<matplotlib.figure.Figure at 0x1f67d557080>"
      ]
     },
     "metadata": {},
     "output_type": "display_data"
    }
   ],
   "source": [
    "n_items=10\n",
    "n_points=10000\n",
    "\n",
    "\n",
    "def accept_exp(n_runs,n_item):\n",
    "    np.random.seed(9)  \n",
    "    exp_rand=[]\n",
    "    g=0\n",
    "    for i in range(n_item):\n",
    "        while True:\n",
    "            temp=np.random.exponential(1)\n",
    "            temp>1\n",
    "            if temp<1:\n",
    "                break\n",
    "        g+=temp        \n",
    "        exp_rand.append(g)\n",
    "        g=0   \n",
    "    z_exp=sum(exp_rand)\n",
    "    rand_proba=[]\n",
    "    f=0\n",
    "    for i in range(n_item):\n",
    "        f+=exp_rand[i]/z_exp\n",
    "        rand_proba.append(f)\n",
    "        f=0 #at this stage we generated random probabilities rand_proba\n",
    "    array=[]\n",
    "    g=0\n",
    "    for k in range(n_runs):\n",
    "        while True:\n",
    "            x=n_item*np.random.uniform(0,1)\n",
    "            y=n_item*np.random.uniform(0,1)\n",
    "            i=int(x)\n",
    "            y>rand_proba[i]*n_item\n",
    "            if y<rand_proba[i]*n_item:\n",
    "                break\n",
    "        g += i\n",
    "        array.append(g)\n",
    "        g=0 #in this part we sampled according to rand_proba\n",
    "    sampl_proba=[]\n",
    "    p=0\n",
    "    for m in range(n_item):\n",
    "        p=array.count(m)/n_runs\n",
    "        sampl_proba.append(p)\n",
    "        p=0#here I calculate the proba_sampled\n",
    "    return {'accept_gen':array,'theor_proba':rand_proba,'accept_proba':sampl_proba}\n",
    "\n",
    "#print(\"sampled_proba=\",accept_exp(n_points,n_items)['accept_proba'])\n",
    "#print(\"theoretical_proba=\",accept_exp(n_points,n_items)['theor_proba'])\n",
    "\n",
    "plt.hist(accept_exp(n_points,n_items)['accept_gen'],normed=True, \n",
    "         bins=list(range(0,n_items+1)),width=0.9,color='orange',label=\"Sampled distribution\")\n",
    "objects = list(range(0,n_items))\n",
    "y_pos = np.arange(len(objects))\n",
    "plt.bar(y_pos, accept_exp(n_points,n_items)['theor_proba'], \n",
    "        align='edge',color='green',alpha=1,width=0.5,label=\"Theoretical distribution\")\n",
    "#plt.xticks(y_pos, objects)\n",
    "plt.xlabel('$i$')\n",
    "plt.ylabel('$P_i$')\n",
    "plt.title('Accept/reject sampling Exponential')\n",
    "plt.legend()\n",
    "plt.show()\n",
    "\n",
    "#plt.hist(accept_exp(n_points,n_items)['theor_proba'],bins=500)\n",
    "#plt.show()\n",
    "\n",
    "\n"
   ]
  },
  {
   "cell_type": "code",
   "execution_count": 10,
   "metadata": {},
   "outputs": [
    {
     "name": "stdout",
     "output_type": "stream",
     "text": [
      "p_i_sampled= [0.0032, 0.2143, 0.2048, 0.046, 0.0486, 0.074, 0.1687, 0.083, 0.0267, 0.1307]\n",
      "p_i_original= [0.003184587853581453, 0.21281910917822938, 0.20910140020993273, 0.04387476735424167, 0.04680857147848006, 0.07531090977110398, 0.16556334873637976, 0.08707966152205988, 0.026813439019434428, 0.12944420487655667]\n"
     ]
    },
    {
     "data": {
      "image/png": "[encoded data removed]",
      "text/plain": [
       "<matplotlib.figure.Figure at 0x1f67d25f668>"
      ]
     },
     "metadata": {},
     "output_type": "display_data"
    }
   ],
   "source": [
    "def tower_function_exp(n_runs,n_item):\n",
    "    np.random.seed(9)\n",
    "    exp_rand=[]\n",
    "    g=0\n",
    "    for i in range(n_item):\n",
    "        while True:\n",
    "            temp=np.random.exponential(1)\n",
    "            temp>1\n",
    "            if temp<1:\n",
    "                break\n",
    "        g+=temp        \n",
    "        exp_rand.append(g)\n",
    "        g=0   \n",
    "    z_exp=sum(exp_rand)\n",
    "    rand_prob=[]\n",
    "    f=0\n",
    "    for i in range(n_item):\n",
    "        f+=exp_rand[i]/z_exp\n",
    "        rand_prob.append(f)\n",
    "        f=0 #at this stage we generated random probabilities rand_proba\n",
    "    rand_proba = [float(j) for j in rand_prob]\n",
    "    cum=[]\n",
    "    q=0\n",
    "    for i in range(n_item+1):\n",
    "        q=sum(rand_proba[:i])\n",
    "        cum.append(q)\n",
    "        q=0        \n",
    "    tower=[]\n",
    "    g=0\n",
    "    for k in range(n_runs):\n",
    "        x=np.random.uniform(0,1)\n",
    "        i=0\n",
    "        while True:\n",
    "            x>cum[i]\n",
    "            i=i+1\n",
    "            if x<cum[i]:\n",
    "                break\n",
    "        g+=i-1\n",
    "        tower.append(g)\n",
    "        g=0\n",
    "    sampl_tower=[]\n",
    "    p=0\n",
    "    for m in range(n_item):\n",
    "        p=tower.count(m)/n_runs\n",
    "        sampl_tower.append(p)\n",
    "        p=0\n",
    "    return {'tower_gen':tower,'sampl_tower':sampl_tower,'rand_theor':rand_proba,'cum':cum}  \n",
    "\n",
    "#print('cumulants',tower_function(n_points,n_items)['cum'])\n",
    "print(\"p_i_sampled=\",tower_function_exp(n_points,n_items)['sampl_tower']) \n",
    "print(\"p_i_original=\",tower_function_exp(n_points,n_items)['rand_theor'])\n",
    "\n",
    "\n",
    "plt.hist(tower_function_exp(n_points,n_items)['tower_gen'],normed=True, \n",
    "         bins=list(range(0,n_items+1)),width=0.9,color='orange',label=\"Sampled distribution\")\n",
    "\n",
    "objects=[]\n",
    "objects = list(range(0,n_items))\n",
    "y_pos = np.arange(len(objects))\n",
    "plt.bar(y_pos, tower_function_exp(n_points,n_items)['rand_theor'],align='edge',\n",
    "        color='green',alpha=1,width=0.3,label=\"Theoretical distribution\")\n",
    "#plt.xticks(y_pos, objects)\n",
    "plt.xlabel('$i$')\n",
    "plt.ylabel('$P_i$')\n",
    "plt.title('Tower Sampling Exponential')\n",
    "plt.legend()\n",
    "\n",
    "plt.show()\n"
   ]
  },
  {
   "cell_type": "code",
   "execution_count": 11,
   "metadata": {},
   "outputs": [],
   "source": [
    "numbers=np.arange(10, 800, 100)  \n",
    "\n",
    "f=0\n",
    "timest_accept_exp=[]\n",
    "elapsed=0\n",
    "start=0 \n",
    "for i in numbers:\n",
    "    start += time.time()\n",
    "    accept_exp(10000,i)['accept_gen']\n",
    "    elapsed += time.time()-start\n",
    "    timest_accept_exp.append(elapsed)\n",
    "    elapsed=0\n",
    "    start=0 \n",
    "    \n",
    "    \n",
    "\n",
    "f=0\n",
    "timest_tower_exp=[]\n",
    "elapsed=0\n",
    "start=0 \n",
    "for i in numbers:\n",
    "    start += time.time()\n",
    "    tower_function_exp(10000,i)['tower_gen']\n",
    "    elapsed += time.time()-start\n",
    "    timest_tower_exp.append(elapsed)\n",
    "    elapsed=0\n",
    "    start=0  "
   ]
  },
  {
   "cell_type": "code",
   "execution_count": 12,
   "metadata": {},
   "outputs": [
    {
     "data": {
      "image/png": "[encoded data removed]",
      "text/plain": [
       "<matplotlib.figure.Figure at 0x1f67d594320>"
      ]
     },
     "metadata": {},
     "output_type": "display_data"
    }
   ],
   "source": [
    "\n",
    "y_pos = np.arange(len(numbers))\n",
    "plt.bar(y_pos, timest_tower_exp,align='edge',\n",
    "        color='green',alpha=1,width=0.8,label=\"Tower\")\n",
    "plt.bar(y_pos, timest_accept_exp,align='edge',\n",
    "        color='yellow',alpha=1,width=0.3,label=\"Accept\")\n",
    "plt.xlabel('$n_{items}$')\n",
    "plt.ylabel('$time$')\n",
    "plt.title('Sampling Time Growth')\n",
    "plt.legend()\n",
    "\n",
    "plt.show()        \n",
    "\n"
   ]
  },
  {
   "cell_type": "code",
   "execution_count": null,
   "metadata": {
    "collapsed": true
   },
   "outputs": [],
   "source": []
  },
  {
   "cell_type": "code",
   "execution_count": null,
   "metadata": {
    "collapsed": true
   },
   "outputs": [],
   "source": []
  },
  {
   "cell_type": "code",
   "execution_count": null,
   "metadata": {
    "collapsed": true
   },
   "outputs": [],
   "source": []
  },
  {
   "cell_type": "code",
   "execution_count": null,
   "metadata": {
    "collapsed": true
   },
   "outputs": [],
   "source": []
  },
  {
   "cell_type": "code",
   "execution_count": 66,
   "metadata": {},
   "outputs": [
    {
     "data": {
      "image/png": "[encoded data removed]",
      "text/plain": [
       "<matplotlib.figure.Figure at 0x204e9faec18>"
      ]
     },
     "metadata": {},
     "output_type": "display_data"
    }
   ],
   "source": [
    "np.random.seed(1)\n",
    "g=0\n",
    "exp_rand=[]\n",
    "for i in range(1000):\n",
    "        while True:\n",
    "            temp=np.random.exponential(1)\n",
    "            temp>1\n",
    "            if temp<1:\n",
    "                break\n",
    "        g+=temp        \n",
    "        exp_rand.append(g)\n",
    "        g=0\n",
    "z_exp=sum(exp_rand)\n",
    "rand_proba=[]\n",
    "q=0\n",
    "for j in range(1000):\n",
    "    q+=exp_rand[j]/z_exp\n",
    "    rand_proba.append(q)\n",
    "    q=0        \n",
    "#print(exp_rand,rand_proba,sum(rand_proba)) \n",
    "\n",
    "plt.hist(rand_proba,color='green',alpha=0.9,bins=100)\n",
    "plt.show()\n",
    "\n"
   ]
  },
  {
   "cell_type": "code",
   "execution_count": 63,
   "metadata": {},
   "outputs": [
    {
     "name": "stdout",
     "output_type": "stream",
     "text": [
      "[0.23686906434600632, 0.050441412827965125, 0.21451516592914602, 0.38857229731548326, 0.10960205958139925]\n",
      "[0, 0.23686906434600632, 0.28731047717397146, 0.5018256431031175, 0.8903979404186008, 1.0]\n"
     ]
    }
   ],
   "source": [
    "s=np.random.uniform(0,1,5)#what is the procedure in case of exponential law \n",
    "z=sum(s)\n",
    "rand_p=[]\n",
    "f=0\n",
    "for i in s:\n",
    "    f += i/z\n",
    "    rand_p.append(f)\n",
    "    f=0 #at this stage we generated random probabilities rand_proba\n",
    "rand_proba = [float(i) for i in rand_p]\n",
    "print(rand_proba)\n",
    "cum=[]\n",
    "q=0\n",
    "for i in range(5+1):\n",
    "    q=sum(rand_proba[:i])\n",
    "    cum.append(q)\n",
    "    q=0 \n",
    "print(cum)    "
   ]
  },
  {
   "cell_type": "code",
   "execution_count": null,
   "metadata": {
    "collapsed": true
   },
   "outputs": [],
   "source": []
  }
 ],
 "metadata": {
  "kernelspec": {
   "display_name": "Python 3",
   "language": "python",
   "name": "python3"
  },
  "language_info": {
   "codemirror_mode": {
    "name": "ipython",
    "version": 3
   },
   "file_extension": ".py",
   "mimetype": "text/x-python",
   "name": "python",
   "nbconvert_exporter": "python",
   "pygments_lexer": "ipython3",
   "version": "3.6.1"
  }
 },
 "nbformat": 4,
 "nbformat_minor": 2
}
