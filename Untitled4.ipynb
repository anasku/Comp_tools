{
 "cells": [
  {
   "cell_type": "markdown",
   "metadata": {},
   "source": [
    "## Sampling descrete distribution"
   ]
  },
  {
   "cell_type": "markdown",
   "metadata": {},
   "source": [
    "\n",
    "\n",
    "We want to sample numbers with random probabilities. For this we generate random numbers $r_i$ using uniform distribution in a range $[0,1]$. \n",
    "\n",
    "To copute the probabilities we use the formula :\n",
    "$$p_i=\\frac{r_i}{\\Sigma_i r_i}\\,.$$  \n",
    "Thus we created a list of random probabilities, to be sure that they are indeed probabilities we sum over all values of $p_i$ and get 1, as it should be. \n",
    "\n",
    "Next step is to sample from this descrete distribution."
   ]
  },
  {
   "cell_type": "code",
   "execution_count": 32,
   "metadata": {},
   "outputs": [
    {
     "name": "stdout",
     "output_type": "stream",
     "text": [
      "time of the procedure 0.0\n",
      "rand p_i= [0.10705967897677902, 0.077432801994444411, 0.17395607832126112, 0.18811115308538653, 0.038688254819278713, 0.1500500599130358, 0.13594194067426291, 0.12876003221555152]\n",
      "the sum of p_is is  1.0\n"
     ]
    }
   ],
   "source": [
    "import random\n",
    "import numpy as np\n",
    "import matplotlib.pyplot as plt\n",
    "import time\n",
    "\n",
    "startTime = time.time()\n",
    "n_item=8\n",
    "s=np.random.uniform(0,1,n_item)\n",
    "z=sum(s)\n",
    "proba=[]\n",
    "f=0\n",
    "for i in s:\n",
    "    f += i/z\n",
    "    proba.append(f)\n",
    "    f=0\n",
    "elapsedTime= time.time()-startTime\n",
    "print(\"time of the procedure\",elapsedTime)\n",
    "print(\"rand p_i=\", proba)\n",
    "print(\"the sum of p_is is \", sum(proba))\n"
   ]
  },
  {
   "cell_type": "markdown",
   "metadata": {},
   "source": [
    "### 1.Accept/ reject procedure\n",
    "\n",
    "We sample descrete distribution generated above for $n_{item}=5$. "
   ]
  },
  {
   "cell_type": "code",
   "execution_count": 33,
   "metadata": {},
   "outputs": [
    {
     "name": "stdout",
     "output_type": "stream",
     "text": [
      "sampled_proba= [0.1108, 0.0761, 0.1742, 0.1861, 0.0403, 0.1457, 0.1334, 0.1286]\n",
      "theoretical_proba= [0.10705967897677902, 0.077432801994444411, 0.17395607832126112, 0.18811115308538653, 0.038688254819278713, 0.1500500599130358, 0.13594194067426291, 0.12876003221555152]\n"
     ]
    },
    {
     "data": {
      "image/png": "[encoded data removed]",
      "text/plain": [
       "<matplotlib.figure.Figure at 0x22e8601ecc0>"
      ]
     },
     "metadata": {},
     "output_type": "display_data"
    }
   ],
   "source": [
    "def acc_method(n_runs):\n",
    "    array=[]\n",
    "    f=0\n",
    "    for k in range(n_runs):\n",
    "        while True:\n",
    "            x=n_item*np.random.uniform(0,1)\n",
    "            y=n_item*np.random.uniform(0,1)\n",
    "            i=int(x)\n",
    "            y>proba[i]*n_item\n",
    "            if y<proba[i]*n_item:\n",
    "                break\n",
    "        f += i\n",
    "        array.append(f)\n",
    "        f=0\n",
    "    return array \n",
    "\n",
    "def acc_proba(n_runs):\n",
    "    sampl_proba=[]\n",
    "    p=0\n",
    "    for m in range(n_item):\n",
    "        p=acc_method(n_runs).count(m)/n_runs\n",
    "        sampl_proba.append(p)\n",
    "        p=0\n",
    "    return sampl_proba\n",
    "\n",
    "print(\"sampled_proba=\",acc_proba(10000))\n",
    "print(\"theoretical_proba=\",proba) \n",
    "\n",
    "plt.hist(acc_method(10000),normed=True, bins=list(range(0,n_item+1)),width=0.9,color='orange',label=\"Sampled distribution\")\n",
    "\n",
    "objects = list(range(0,n_item))\n",
    "y_pos = np.arange(len(objects))\n",
    "plt.bar(y_pos, proba, align='edge',color='green',alpha=1,width=0.5,label=\"Theoretical distribution\")\n",
    "plt.xticks(y_pos, objects)\n",
    "plt.xlabel('$i$')\n",
    "plt.ylabel('$P_i$')\n",
    "plt.title('Accept/reject sampling')\n",
    "plt.legend()\n",
    "plt.show()\n",
    "\n"
   ]
  },
  {
   "cell_type": "markdown",
   "metadata": {},
   "source": [
    "### 2.Tower sampling\n"
   ]
  },
  {
   "cell_type": "code",
   "execution_count": 35,
   "metadata": {},
   "outputs": [
    {
     "name": "stdout",
     "output_type": "stream",
     "text": [
      "p_i_sampled= [0.1061, 0.0792, 0.1786, 0.1892, 0.0367, 0.155, 0.1341, 0.1287]\n",
      "p_i_original= [0.10705967897677902, 0.077432801994444411, 0.17395607832126112, 0.18811115308538653, 0.038688254819278713, 0.1500500599130358, 0.13594194067426291, 0.12876003221555152]\n"
     ]
    },
    {
     "data": {
      "image/png": "[encoded data removed]",
      "text/plain": [
       "<matplotlib.figure.Figure at 0x22e85deff28>"
      ]
     },
     "metadata": {},
     "output_type": "display_data"
    }
   ],
   "source": [
    "def tower_method(n_runs):\n",
    "    cum=[]\n",
    "    f=0\n",
    "    for i in range(n_item+1):\n",
    "        f=sum(proba[:i])\n",
    "        cum.append(f)\n",
    "        f=0        \n",
    "    tower=[]\n",
    "    for k in range(n_runs):\n",
    "        x=np.random.uniform(0,1)\n",
    "        i=0\n",
    "        while True:\n",
    "            x>cum[i]\n",
    "            i=i+1\n",
    "            if x<cum[i]:\n",
    "                break\n",
    "        f+=i-1\n",
    "        tower.append(f)\n",
    "        f=0\n",
    "    return tower\n",
    "\n",
    "def tower_proba(n_runs):\n",
    "    sampl_tower=[]\n",
    "    p=0\n",
    "    for m in range(n_item):\n",
    "        p=tower_method(n_runs).count(m)/n_runs\n",
    "        sampl_tower.append(p)\n",
    "        p=0\n",
    "    return sampl_tower   \n",
    "print(\"p_i_sampled=\",tower_proba(10000)) \n",
    "print(\"p_i_original=\",proba)\n",
    "plt.hist(tower_method(10000),normed=True, bins=list(range(0,n_item+1)),width=0.9,color='orange',label=\"Sampled distribution\")\n",
    "objects = list(range(0,n_item))\n",
    "y_pos = np.arange(len(objects))\n",
    "plt.bar(y_pos, proba, align='edge',color='green',alpha=1,width=0.5,label=\"Theoretical distribution\")\n",
    "plt.xticks(y_pos, objects)\n",
    "plt.xlabel('$i$')\n",
    "plt.ylabel('$P_i$')\n",
    "plt.title('Tower Sampling')\n",
    "plt.legend()\n",
    "\n",
    "plt.show()\n",
    "\n",
    "\n",
    "\n"
   ]
  },
  {
   "cell_type": "markdown",
   "metadata": {},
   "source": [
    "### 3.Time estimation"
   ]
  },
  {
   "cell_type": "code",
   "execution_count": 37,
   "metadata": {},
   "outputs": [
    {
     "name": "stdout",
     "output_type": "stream",
     "text": [
      "sampled_proba= [0.2447, 0.1566, 0.0796, 0.0517, 0.114, 0.0298, 0.1987, 0.1249]\n",
      "theoretical_proba= [0.24385474429961054, 0.16318475212444655, 0.078145399860991491, 0.052102147332110237, 0.11521197074856609, 0.032894828253483728, 0.1919644232144109, 0.12264173416638027]\n"
     ]
    },
    {
     "data": {
      "image/png": "[encoded data removed]",
      "text/plain": [
       "<matplotlib.figure.Figure at 0x2ba249294e0>"
      ]
     },
     "metadata": {},
     "output_type": "display_data"
    }
   ],
   "source": [
    "def accept(n_runs,n_item):\n",
    "    np.random.seed(25)\n",
    "    s=np.random.uniform(0,1,n_item)\n",
    "    z=sum(s)\n",
    "    rand_proba=[]\n",
    "    f=0\n",
    "    for i in s:\n",
    "        f += i/z\n",
    "        rand_proba.append(f)\n",
    "        f=0 #at this stage we generated random probabilities rand_proba\n",
    "    array=[]\n",
    "    g=0\n",
    "    for k in range(n_runs):\n",
    "        while True:\n",
    "            x=n_item*np.random.uniform(0,1)\n",
    "            y=n_item*np.random.uniform(0,1)\n",
    "            i=int(x)\n",
    "            y>rand_proba[i]*n_item\n",
    "            if y<rand_proba[i]*n_item:\n",
    "                break\n",
    "        g += i\n",
    "        array.append(g)\n",
    "        g=0 #in this part we sampled according to rand_proba\n",
    "    sampl_proba=[]\n",
    "    p=0\n",
    "    for m in range(n_item):\n",
    "        p=array.count(m)/n_runs\n",
    "        sampl_proba.append(p)\n",
    "        p=0\n",
    "    return {'accept_gen':array,'theor_proba':rand_proba,'accept_proba':sampl_proba}\n",
    "n_items=8\n",
    "n_points=10000\n",
    "print(\"sampled_proba=\",accept(n_points,n_items)['accept_proba'])\n",
    "print(\"theoretical_proba=\",accept(n_points,n_items)['theor_proba'])\n",
    "\n",
    "plt.hist(accept(n_points,n_items)['accept_gen'],normed=True, bins=list(range(0,n_items+1)),width=0.9,color='orange',label=\"Sampled distribution\")\n",
    "\n",
    "objects = list(range(0,n_items))\n",
    "y_pos = np.arange(len(objects))\n",
    "plt.bar(y_pos, accept(n_points,n_items)['theor_proba'], align='edge',color='green',alpha=1,width=0.5,label=\"Theoretical distribution\")\n",
    "plt.xticks(y_pos, objects)\n",
    "plt.xlabel('$i$')\n",
    "plt.ylabel('$P_i$')\n",
    "plt.title('Accept/reject sampling')\n",
    "plt.legend()\n",
    "plt.show()\n",
    "\n",
    "\n",
    "\n"
   ]
  },
  {
   "cell_type": "code",
   "execution_count": 50,
   "metadata": {},
   "outputs": [
    {
     "ename": "IndexError",
     "evalue": "list index out of range",
     "output_type": "error",
     "traceback": [
      "\u001b[1;31m---------------------------------------------------------------------------\u001b[0m",
      "\u001b[1;31mIndexError\u001b[0m                                Traceback (most recent call last)",
      "\u001b[1;32m<ipython-input-50-9b4aaf61ca13>\u001b[0m in \u001b[0;36m<module>\u001b[1;34m()\u001b[0m\n\u001b[0;32m     37\u001b[0m \u001b[0mn_items\u001b[0m\u001b[1;33m=\u001b[0m\u001b[1;36m5\u001b[0m\u001b[1;33m\u001b[0m\u001b[0m\n\u001b[0;32m     38\u001b[0m \u001b[0mn_points\u001b[0m\u001b[1;33m=\u001b[0m\u001b[1;36m10000\u001b[0m\u001b[1;33m\u001b[0m\u001b[0m\n\u001b[1;32m---> 39\u001b[1;33m \u001b[0mprint\u001b[0m\u001b[1;33m(\u001b[0m\u001b[1;34m\"p_i_sampled=\"\u001b[0m\u001b[1;33m,\u001b[0m\u001b[0mtower_method\u001b[0m\u001b[1;33m(\u001b[0m\u001b[0mn_points\u001b[0m\u001b[1;33m,\u001b[0m\u001b[0mn_items\u001b[0m\u001b[1;33m)\u001b[0m\u001b[1;33m[\u001b[0m\u001b[1;34m'sampl_tower'\u001b[0m\u001b[1;33m]\u001b[0m\u001b[1;33m)\u001b[0m\u001b[1;33m\u001b[0m\u001b[0m\n\u001b[0m\u001b[0;32m     40\u001b[0m \u001b[0mprint\u001b[0m\u001b[1;33m(\u001b[0m\u001b[1;34m\"p_i_original=\"\u001b[0m\u001b[1;33m,\u001b[0m\u001b[0mtower_method\u001b[0m\u001b[1;33m(\u001b[0m\u001b[0mn_points\u001b[0m\u001b[1;33m,\u001b[0m\u001b[0mn_items\u001b[0m\u001b[1;33m)\u001b[0m\u001b[1;33m[\u001b[0m\u001b[1;34m'rand_theor'\u001b[0m\u001b[1;33m]\u001b[0m\u001b[1;33m)\u001b[0m\u001b[1;33m\u001b[0m\u001b[0m\n\u001b[0;32m     41\u001b[0m plt.hist(tower_method(n_points,n_items)['tower_gen'],normed=True, \n",
      "\u001b[1;32m<ipython-input-50-9b4aaf61ca13>\u001b[0m in \u001b[0;36mtower_method\u001b[1;34m(n_runs, n_item)\u001b[0m\n\u001b[0;32m     23\u001b[0m             \u001b[0mx\u001b[0m\u001b[1;33m>\u001b[0m\u001b[0mcum\u001b[0m\u001b[1;33m[\u001b[0m\u001b[0mi\u001b[0m\u001b[1;33m]\u001b[0m\u001b[1;33m\u001b[0m\u001b[0m\n\u001b[0;32m     24\u001b[0m             \u001b[0mi\u001b[0m\u001b[1;33m=\u001b[0m\u001b[0mi\u001b[0m\u001b[1;33m+\u001b[0m\u001b[1;36m1\u001b[0m\u001b[1;33m\u001b[0m\u001b[0m\n\u001b[1;32m---> 25\u001b[1;33m             \u001b[1;32mif\u001b[0m \u001b[0mx\u001b[0m\u001b[1;33m<\u001b[0m\u001b[0mcum\u001b[0m\u001b[1;33m[\u001b[0m\u001b[0mi\u001b[0m\u001b[1;33m]\u001b[0m\u001b[1;33m:\u001b[0m\u001b[1;33m\u001b[0m\u001b[0m\n\u001b[0m\u001b[0;32m     26\u001b[0m                 \u001b[1;32mbreak\u001b[0m\u001b[1;33m\u001b[0m\u001b[0m\n\u001b[0;32m     27\u001b[0m         \u001b[0mf\u001b[0m\u001b[1;33m+=\u001b[0m\u001b[0mi\u001b[0m\u001b[1;33m-\u001b[0m\u001b[1;36m1\u001b[0m\u001b[1;33m\u001b[0m\u001b[0m\n",
      "\u001b[1;31mIndexError\u001b[0m: list index out of range"
     ]
    }
   ],
   "source": [
    "\n",
    "def tower_method(n_runs,n_item):\n",
    "    np.random.seed(25)\n",
    "    s = np.random.uniform(0,1,n_item)\n",
    "    z=sum(s)\n",
    "    rand_proba=[]\n",
    "    f=0\n",
    "    for i in s:\n",
    "        f += i/z\n",
    "        rand_proba.append(f)\n",
    "        f=0 \n",
    "    cum=[]\n",
    "    f=0\n",
    "    for i in range(n_item+1):\n",
    "        f=sum(proba[:i])\n",
    "        cum.append(f)  \n",
    "        f=0         \n",
    "    tower=[]\n",
    "    for k in range(n_runs):\n",
    "        x=np.random.uniform(0,1)\n",
    "        i=0\n",
    "        while True:\n",
    "            x>cum[i]\n",
    "            i=i+1\n",
    "            if x<cum[i]:\n",
    "                break\n",
    "        f+=i-1\n",
    "        tower.append(f)\n",
    "        f=0\n",
    "    sampl_tower=[]\n",
    "    p=0\n",
    "    for m in range(n_item):\n",
    "        p=tower.count(m)/n_runs\n",
    "        sampl_tower.append(p)\n",
    "        p=0\n",
    "    return {'tower_gen':tower,'sampl_tower':sampl_tower,'rand_theor':rand_proba,'cum':cum}  \n",
    "n_items=5\n",
    "n_points=10000\n",
    "print(\"p_i_sampled=\",tower_method(n_points,n_items)['sampl_tower']) \n",
    "print(\"p_i_original=\",tower_method(n_points,n_items)['rand_theor'])\n",
    "plt.hist(tower_method(n_points,n_items)['tower_gen'],normed=True, \n",
    "        bins=list(range(0,n_items+1)),width=0.9,color='orange',label=\"Sampled distribution\")\n",
    "objects=[]\n",
    "objects = list(range(0,n_items))\n",
    "y_pos = np.arange(len(objects))\n",
    "plt.bar(y_pos, tower_method(n_points,n_items)['rand_theor'],align='edge',\n",
    "        color='green',alpha=1,width=0.3,label=\"Theoretical distribution\")\n",
    "plt.xticks(y_pos, objects)\n",
    "plt.xlabel('$i$')\n",
    "plt.ylabel('$P_i$')\n",
    "plt.title('Tower Sampling')\n",
    "plt.legend()\n",
    "\n",
    "plt.show()\n",
    "\n"
   ]
  },
  {
   "cell_type": "code",
   "execution_count": null,
   "metadata": {
    "collapsed": true
   },
   "outputs": [],
   "source": []
  },
  {
   "cell_type": "code",
   "execution_count": null,
   "metadata": {
    "collapsed": true
   },
   "outputs": [],
   "source": []
  },
  {
   "cell_type": "code",
   "execution_count": null,
   "metadata": {
    "collapsed": true
   },
   "outputs": [],
   "source": []
  }
 ],
 "metadata": {
  "kernelspec": {
   "display_name": "Python 3",
   "language": "python",
   "name": "python3"
  },
  "language_info": {
   "codemirror_mode": {
    "name": "ipython",
    "version": 3
   },
   "file_extension": ".py",
   "mimetype": "text/x-python",
   "name": "python",
   "nbconvert_exporter": "python",
   "pygments_lexer": "ipython3",
   "version": "3.6.1"
  }
 },
 "nbformat": 4,
 "nbformat_minor": 2
}
