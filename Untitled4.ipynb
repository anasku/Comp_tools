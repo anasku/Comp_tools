{
 "cells": [
  {
   "cell_type": "markdown",
   "metadata": {},
   "source": [
    "## Sampling descrete distribution"
   ]
  },
  {
   "cell_type": "markdown",
   "metadata": {},
   "source": [
    "\n",
    "\n",
    "We want to sample numbers with random probabilities. For this we generate random numbers $r_i$ using uniform distribution in a range $[0,1]$. \n",
    "\n",
    "To copute the probabilities we use the formula :\n",
    "$$p_i=\\frac{r_i}{\\Sigma_i r_i}\\,.$$  \n",
    "Thus we created a list of random probabilities, to be sure that they are indeed probabilities we sum over all values of $p_i$ and get 1, as it should be. \n",
    "\n",
    "Next step is to sample from this descrete distribution."
   ]
  },
  {
   "cell_type": "code",
   "execution_count": 71,
   "metadata": {},
   "outputs": [
    {
     "name": "stdout",
     "output_type": "stream",
     "text": [
      "time of the procedure 0.0\n",
      "rand p_i= [0.66658665917892734, 0.15029888793876464, 0.10726703946818891, 0.075847413414119033]\n",
      "the sum of p_is is  1.0\n"
     ]
    }
   ],
   "source": [
    "import random\n",
    "import numpy as np\n",
    "import matplotlib.pyplot as plt\n",
    "import time\n",
    "import math\n",
    "from math import log\n",
    "from math import exp\n",
    "\n",
    "startTime = time.time()\n",
    "n_items=4\n",
    "s=np.random.uniform(0,1,n_items)\n",
    "z=sum(s)\n",
    "proba=[]\n",
    "f=0\n",
    "for i in s:\n",
    "    f += i/z\n",
    "    proba.append(f)\n",
    "    f=0\n",
    "elapsedTime= time.time()-startTime\n",
    "print(\"time of the procedure\",elapsedTime)\n",
    "print(\"rand p_i=\", proba)\n",
    "print(\"the sum of p_is is \", sum(proba))\n"
   ]
  },
  {
   "cell_type": "markdown",
   "metadata": {},
   "source": [
    "### 1.Accept/ reject procedure\n",
    "\n",
    "We sample descrete distribution generated above for $n_{item}=5$. "
   ]
  },
  {
   "cell_type": "code",
   "execution_count": 20,
   "metadata": {},
   "outputs": [
    {
     "name": "stdout",
     "output_type": "stream",
     "text": [
      "sampled_proba= [0.3766, 0.0679, 0.284, 0.2678]\n",
      "theoretical_proba= [0.3792698459528609, 0.066516702536356234, 0.28579260848897187, 0.26842084302181096]\n"
     ]
    },
    {
     "data": {
      "image/png": "[encoded data removed]",
      "text/plain": [
       "<matplotlib.figure.Figure at 0x26b9c2bc470>"
      ]
     },
     "metadata": {},
     "output_type": "display_data"
    }
   ],
   "source": [
    "def acc_method(n_runs):\n",
    "    array=[]\n",
    "    f=0\n",
    "    for k in range(n_runs):\n",
    "        while True:\n",
    "            x=n_items*np.random.uniform(0,1)\n",
    "            y=n_items*np.random.uniform(0,1)\n",
    "            i=int(x)\n",
    "            y>proba[i]*n_items\n",
    "            if y<proba[i]*n_items:\n",
    "                break\n",
    "        f += i\n",
    "        array.append(f)\n",
    "        f=0\n",
    "    return array \n",
    "\n",
    "def acc_proba(n_runs):\n",
    "    sampl_proba=[]\n",
    "    p=0\n",
    "    for m in range(n_items):\n",
    "        p=acc_method(n_runs).count(m)/n_runs\n",
    "        sampl_proba.append(p)\n",
    "        p=0\n",
    "    return sampl_proba\n",
    "\n",
    "print(\"sampled_proba=\",acc_proba(10000))\n",
    "print(\"theoretical_proba=\",proba) \n",
    "\n",
    "plt.hist(acc_method(10000),normed=True, bins=list(range(0,n_items+1)),width=0.9,color='orange',label=\"Sampled distribution\")\n",
    "\n",
    "objects = list(range(0,n_items))\n",
    "y_pos = np.arange(len(objects))\n",
    "plt.bar(y_pos, proba, align='edge',color='green',alpha=1,width=0.5,label=\"Theoretical distribution\")\n",
    "plt.xticks(y_pos, objects)\n",
    "plt.xlabel('$i$')\n",
    "plt.ylabel('$P_i$')\n",
    "plt.title('Accept/reject sampling')\n",
    "plt.legend()\n",
    "plt.show()\n",
    "\n"
   ]
  },
  {
   "cell_type": "markdown",
   "metadata": {},
   "source": [
    "### 2.Tower sampling\n"
   ]
  },
  {
   "cell_type": "code",
   "execution_count": 21,
   "metadata": {},
   "outputs": [
    {
     "name": "stdout",
     "output_type": "stream",
     "text": [
      "p_i_sampled= [0.3797, 0.0666, 0.2861, 0.2666]\n",
      "p_i_original= [0.3792698459528609, 0.066516702536356234, 0.28579260848897187, 0.26842084302181096]\n"
     ]
    },
    {
     "data": {
      "image/png": "[encoded data removed]",
      "text/plain": [
       "<matplotlib.figure.Figure at 0x26b9c5a44a8>"
      ]
     },
     "metadata": {},
     "output_type": "display_data"
    }
   ],
   "source": [
    "def tower_method(n_runs):\n",
    "    cum=[]\n",
    "    f=0\n",
    "    for i in range(n_items+1):\n",
    "        f=sum(proba[:i])\n",
    "        cum.append(f)\n",
    "        f=0        \n",
    "    tower=[]\n",
    "    g=0\n",
    "    for k in range(n_runs):\n",
    "        x=np.random.uniform(0,1)\n",
    "        i=0\n",
    "        while True:\n",
    "            x>cum[i]\n",
    "            i=i+1\n",
    "            if x<cum[i]:\n",
    "                break\n",
    "        g+=i-1\n",
    "        tower.append(g)\n",
    "        g=0\n",
    "    return tower\n",
    "\n",
    "def tower_proba(n_runs):\n",
    "    sampl_tower=[]\n",
    "    p=0\n",
    "    for m in range(n_items):\n",
    "        p=tower_method(n_runs).count(m)/n_runs\n",
    "        sampl_tower.append(p)\n",
    "        p=0\n",
    "    return sampl_tower   \n",
    "print(\"p_i_sampled=\",tower_proba(10000)) \n",
    "print(\"p_i_original=\",proba)\n",
    "plt.hist(tower_method(10000),normed=True, bins=list(range(0,n_items+1)),width=0.9,color='orange',label=\"Sampled distribution\")\n",
    "objects = list(range(0,n_items))\n",
    "y_pos = np.arange(len(objects))\n",
    "plt.bar(y_pos, proba, align='edge',color='green',alpha=1,width=0.5,label=\"Theoretical distribution\")\n",
    "plt.xticks(y_pos, objects)\n",
    "plt.xlabel('$i$')\n",
    "plt.ylabel('$P_i$')\n",
    "plt.title('Tower Sampling')\n",
    "plt.legend()\n",
    "\n",
    "plt.show()\n",
    "\n",
    "\n",
    "\n"
   ]
  },
  {
   "cell_type": "markdown",
   "metadata": {},
   "source": [
    "### 3.Time estimation"
   ]
  },
  {
   "cell_type": "code",
   "execution_count": 2,
   "metadata": {},
   "outputs": [
    {
     "name": "stdout",
     "output_type": "stream",
     "text": [
      "time: 0.0\n",
      "sampled_proba= [0.12222, 0.00692, 0.15472, 0.12058, 0.11472, 0.09227, 0.05668, 0.17338, 0.08247, 0.07604]\n",
      "theoretical_proba= [0.12151439953274266, 0.0072257966256834959, 0.15319423602654106, 0.12132696708673414, 0.11715903282952381, 0.092066299908176524, 0.057036804233561875, 0.17259454010692335, 0.083515558461461345, 0.074366365188651848]\n"
     ]
    },
    {
     "data": {
      "image/png": "[encoded data removed]",
      "text/plain": [
       "<matplotlib.figure.Figure at 0x2434e7b8748>"
      ]
     },
     "metadata": {},
     "output_type": "display_data"
    }
   ],
   "source": [
    "n_items=10\n",
    "n_points=100000\n",
    "\n",
    "\n",
    "def accept(n_runs,n_item):\n",
    "    np.random.seed(2)\n",
    "    s=np.random.uniform(0,1,n_item)\n",
    "    z=sum(s)\n",
    "    rand_proba=[]\n",
    "    f=0\n",
    "    for i in s:\n",
    "        f += i/z\n",
    "        rand_proba.append(f)\n",
    "        f=0 #at this stage we generated random probabilities rand_proba\n",
    "    array=[]\n",
    "    g=0\n",
    "    for k in range(n_runs):\n",
    "        while True:\n",
    "            x=n_item*np.random.uniform(0,1)\n",
    "            y=n_item*np.random.uniform(0,1)\n",
    "            i=int(x)\n",
    "            y>rand_proba[i]*n_item\n",
    "            if y<rand_proba[i]*n_item:\n",
    "                break\n",
    "        g += i\n",
    "        array.append(g)\n",
    "        g=0 #in this part we sampled according to rand_proba\n",
    "    sampl_proba=[]\n",
    "    p=0\n",
    "    for m in range(n_item):\n",
    "        p=array.count(m)/n_runs\n",
    "        sampl_proba.append(p)\n",
    "        p=0#here I calculate the proba_sampled\n",
    "    return {'accept_gen':array,'theor_proba':rand_proba,'accept_proba':sampl_proba}\n",
    "\n",
    "\n",
    "print(\"sampled_proba=\",accept(n_points,n_items)['accept_proba'])\n",
    "print(\"theoretical_proba=\",accept(n_points,n_items)['theor_proba'])\n",
    "\n",
    "plt.hist(accept(n_points,n_items)['accept_gen'],normed=True, \n",
    "         bins=list(range(0,n_items+1)),width=0.9,color='orange',label=\"Sampled distribution\")\n",
    "\n",
    "objects = list(range(0,n_items))\n",
    "y_pos = np.arange(len(objects))\n",
    "plt.bar(y_pos, accept(n_points,n_items)['theor_proba'], \n",
    "        align='edge',color='green',alpha=1,width=0.5,label=\"Theoretical distribution\")\n",
    "plt.xticks(y_pos, objects)\n",
    "plt.xlabel('$i$')\n",
    "plt.ylabel('$P_i$')\n",
    "plt.title('Accept/reject sampling')\n",
    "plt.legend()\n",
    "plt.show()\n",
    "\n",
    "\n",
    "\n"
   ]
  },
  {
   "cell_type": "code",
   "execution_count": 4,
   "metadata": {},
   "outputs": [
    {
     "name": "stdout",
     "output_type": "stream",
     "text": [
      "cumulants [0, 0.12151439953274266, 0.12874019615842616, 0.2819344321849672, 0.40326139927170135, 0.5204204321012251, 0.6124867320094016, 0.6695235362429635, 0.8421180763498868, 0.9256336348113481, 0.9999999999999999]\n",
      "p_i_sampled= [0.12219, 0.00706, 0.1545, 0.12166, 0.11639, 0.09139, 0.0577, 0.17097, 0.08272, 0.07542]\n",
      "p_i_original= [0.12151439953274266, 0.007225796625683496, 0.15319423602654106, 0.12132696708673414, 0.11715903282952381, 0.09206629990817652, 0.057036804233561875, 0.17259454010692335, 0.08351555846146134, 0.07436636518865185]\n",
      "0.5792527198791504\n"
     ]
    },
    {
     "data": {
      "image/png": "[encoded data removed]",
      "text/plain": [
       "<matplotlib.figure.Figure at 0x24350d24908>"
      ]
     },
     "metadata": {},
     "output_type": "display_data"
    }
   ],
   "source": [
    "def tower_function(n_runs,n_item):\n",
    "    np.random.seed(2)\n",
    "    s=np.random.uniform(0,1,n_item)\n",
    "    z=sum(s)\n",
    "    rand_p=[]\n",
    "    f=0\n",
    "    for i in s:\n",
    "        f += i/z\n",
    "        rand_p.append(f)\n",
    "        f=0 #at this stage we generated random probabilities rand_proba\n",
    "    rand_proba = [float(j) for j in rand_p]\n",
    "    cum=[]\n",
    "    q=0\n",
    "    for i in range(n_item+1):\n",
    "        q=sum(rand_proba[:i])\n",
    "        cum.append(q)\n",
    "        q=0        \n",
    "    tower=[]\n",
    "    g=0\n",
    "    for k in range(n_runs):\n",
    "        x=np.random.uniform(0,1)\n",
    "        i=0\n",
    "        while True:\n",
    "            x>cum[i]\n",
    "            i=i+1\n",
    "            if x<cum[i]:\n",
    "                break\n",
    "        g+=i-1\n",
    "        tower.append(g)\n",
    "        g=0\n",
    "    sampl_tower=[]\n",
    "    p=0\n",
    "    for m in range(n_item):\n",
    "        p=tower.count(m)/n_runs\n",
    "        sampl_tower.append(p)\n",
    "        p=0\n",
    "    return {'tower_gen':tower,'sampl_tower':sampl_tower,'rand_theor':rand_proba,'cum':cum}  \n",
    "\n",
    "#print('cumulants',tower_function(n_points,n_items)['cum'])\n",
    "print(\"p_i_sampled=\",tower_function(n_points,n_items)['sampl_tower']) \n",
    "print(\"p_i_original=\",tower_function(n_points,n_items)['rand_theor'])\n",
    "\n",
    "\n",
    "plt.hist(tower_function(n_points,n_items)['tower_gen'],normed=True, \n",
    "         bins=list(range(0,n_items+1)),width=0.9,color='orange',label=\"Sampled distribution\")\n",
    "\n",
    "objects=[]\n",
    "objects = list(range(0,n_items))\n",
    "y_pos = np.arange(len(objects))\n",
    "plt.bar(y_pos, tower_function(n_points,n_items)['rand_theor'],align='edge',\n",
    "        color='green',alpha=1,width=0.3,label=\"Theoretical distribution\")\n",
    "plt.xticks(y_pos, objects)\n",
    "plt.xlabel('$i$')\n",
    "plt.ylabel('$P_i$')\n",
    "plt.title('Tower Sampling')\n",
    "plt.legend()\n",
    "\n",
    "plt.show()\n",
    "\n",
    "\n"
   ]
  },
  {
   "cell_type": "code",
   "execution_count": 38,
   "metadata": {},
   "outputs": [],
   "source": [
    "numbers=np.arange(10, 500, 50)  \n",
    "\n",
    "f=0\n",
    "timest_accept=[]\n",
    "elapsed=0\n",
    "start=0 \n",
    "for i in numbers:\n",
    "    start += time.time()\n",
    "    accept(10000,i)['accept_gen']\n",
    "    elapsed += time.time()-start\n",
    "    timest_accept.append(elapsed)\n",
    "    elapsed=0\n",
    "    start=0 \n",
    "    \n",
    "    \n",
    "\n",
    "f=0\n",
    "timest_tower=[]\n",
    "elapsed=0\n",
    "start=0 \n",
    "for i in numbers:\n",
    "    start += time.time()\n",
    "    tower_function(10000,i)['tower_gen']\n",
    "    elapsed += time.time()-start\n",
    "    timest_tower.append(elapsed)\n",
    "    elapsed=0\n",
    "    start=0  \n",
    "#print(\"time_tower\",timest_tower)\n",
    "#print(\"time_accept\",timest_accept)\n",
    "\n"
   ]
  },
  {
   "cell_type": "code",
   "execution_count": 39,
   "metadata": {},
   "outputs": [
    {
     "data": {
      "image/png": "[encoded data removed]",
      "text/plain": [
       "<matplotlib.figure.Figure at 0x2435144b7f0>"
      ]
     },
     "metadata": {},
     "output_type": "display_data"
    }
   ],
   "source": [
    "y_pos = np.arange(len(numbers))\n",
    "plt.bar(y_pos, timest_tower,align='edge',\n",
    "        color='green',alpha=1,width=0.8,label=\"Tower\")\n",
    "plt.bar(y_pos, timest_accept,align='edge',\n",
    "        color='yellow',alpha=1,width=0.3,label=\"Accept\")\n",
    "plt.xlabel('$n_{items}$')\n",
    "plt.ylabel('$time$')\n",
    "plt.title('Sampling Time Growth')\n",
    "plt.legend()\n",
    "\n",
    "plt.show()        \n"
   ]
  },
  {
   "cell_type": "markdown",
   "metadata": {
    "collapsed": true
   },
   "source": [
    "### 4. The same procedure of time estimation for exponential law"
   ]
  },
  {
   "cell_type": "code",
   "execution_count": null,
   "metadata": {},
   "outputs": [],
   "source": [
    "n_items=10\n",
    "n_points=100000\n",
    "\n",
    "\n",
    "def accept(n_runs,n_item):\n",
    "    np.random.seed(2)\n",
    "    s=-log(np.random.uniform(0,1,n_item))\n",
    "    z=sum(s)\n",
    "    rand_proba=[]\n",
    "    f=0\n",
    "    for i in s:\n",
    "        f += i/z\n",
    "        rand_proba.append(f)\n",
    "        f=0 #at this stage we generated random probabilities rand_proba\n",
    "    array=[]\n",
    "    g=0\n",
    "    for k in range(n_runs):\n",
    "        while True:\n",
    "            x=n_item*np.random.uniform(0,1)\n",
    "            y=n_item*np.random.uniform(0,1)\n",
    "            i=int(x)\n",
    "            y>rand_proba[i]*n_item\n",
    "            if y<rand_proba[i]*n_item:\n",
    "                break\n",
    "        g += i\n",
    "        array.append(g)\n",
    "        g=0 #in this part we sampled according to rand_proba\n",
    "    sampl_proba=[]\n",
    "    p=0\n",
    "    for m in range(n_item):\n",
    "        p=array.count(m)/n_runs\n",
    "        sampl_proba.append(p)\n",
    "        p=0#here I calculate the proba_sampled\n",
    "    return {'accept_gen':array,'theor_proba':rand_proba,'accept_proba':sampl_proba}\n",
    "\n",
    "print(\"sampled_proba=\",accept(n_points,n_items)['accept_proba'])\n",
    "print(\"theoretical_proba=\",accept(n_points,n_items)['theor_proba'])\n",
    "\n",
    "plt.hist(accept(n_points,n_items)['accept_gen'],normed=True, \n",
    "         bins=list(range(0,n_items+1)),width=0.9,color='orange',label=\"Sampled distribution\")\n",
    "\n",
    "objects = list(range(0,n_items))\n",
    "y_pos = np.arange(len(objects))\n",
    "plt.bar(y_pos, accept(n_points,n_items)['theor_proba'], \n",
    "        align='edge',color='green',alpha=1,width=0.5,label=\"Theoretical distribution\")\n",
    "plt.xticks(y_pos, objects)\n",
    "plt.xlabel('$i$')\n",
    "plt.ylabel('$P_i$')\n",
    "plt.title('Accept/reject sampling')\n",
    "plt.legend()\n",
    "plt.show()\n",
    "\n",
    "\n",
    "def tower_function(n_runs,n_item):\n",
    "    np.random.seed(2)\n",
    "    s=np.random.uniform(0,1,n_item)\n",
    "    z=sum(s)\n",
    "    rand_p=[]\n",
    "    f=0\n",
    "    for i in s:\n",
    "        f += i/z\n",
    "        rand_p.append(f)\n",
    "        f=0 #at this stage we generated random probabilities rand_proba\n",
    "    rand_proba = [float(j) for j in rand_p]\n",
    "    cum=[]\n",
    "    q=0\n",
    "    for i in range(n_item+1):\n",
    "        q=sum(rand_proba[:i])\n",
    "        cum.append(q)\n",
    "        q=0        \n",
    "    tower=[]\n",
    "    g=0\n",
    "    for k in range(n_runs):\n",
    "        x=np.random.uniform(0,1)\n",
    "        i=0\n",
    "        while True:\n",
    "            x>cum[i]\n",
    "            i=i+1\n",
    "            if x<cum[i]:\n",
    "                break\n",
    "        g+=i-1\n",
    "        tower.append(g)\n",
    "        g=0\n",
    "    sampl_tower=[]\n",
    "    p=0\n",
    "    for m in range(n_item):\n",
    "        p=tower.count(m)/n_runs\n",
    "        sampl_tower.append(p)\n",
    "        p=0\n",
    "    return {'tower_gen':tower,'sampl_tower':sampl_tower,'rand_theor':rand_proba,'cum':cum}  \n",
    "\n",
    "#print('cumulants',tower_function(n_points,n_items)['cum'])\n",
    "print(\"p_i_sampled=\",tower_function(n_points,n_items)['sampl_tower']) \n",
    "print(\"p_i_original=\",tower_function(n_points,n_items)['rand_theor'])\n",
    "\n",
    "\n",
    "plt.hist(tower_function(n_points,n_items)['tower_gen'],normed=True, \n",
    "         bins=list(range(0,n_items+1)),width=0.9,color='orange',label=\"Sampled distribution\")\n",
    "\n",
    "objects=[]\n",
    "objects = list(range(0,n_items))\n",
    "y_pos = np.arange(len(objects))\n",
    "plt.bar(y_pos, tower_function(n_points,n_items)['rand_theor'],align='edge',\n",
    "        color='green',alpha=1,width=0.3,label=\"Theoretical distribution\")\n",
    "plt.xticks(y_pos, objects)\n",
    "plt.xlabel('$i$')\n",
    "plt.ylabel('$P_i$')\n",
    "plt.title('Tower Sampling')\n",
    "plt.legend()\n",
    "\n",
    "plt.show()\n"
   ]
  },
  {
   "cell_type": "code",
   "execution_count": null,
   "metadata": {
    "collapsed": true
   },
   "outputs": [],
   "source": [
    "s=np.random.uniform(0,1,5)#what is the procedure in case of exponential law \n",
    "z=sum(s)\n",
    "rand_p=[]\n",
    "f=0\n",
    "for i in s:\n",
    "    f += i/z\n",
    "    rand_p.append(f)\n",
    "    f=0 #at this stage we generated random probabilities rand_proba\n",
    "rand_proba = [float(i) for i in rand_p]\n",
    "print(rand_proba)\n",
    "cum=[]\n",
    "q=0\n",
    "for i in range(5+1):\n",
    "    q=sum(rand_proba[:i])\n",
    "    cum.append(q)\n",
    "    q=0 \n",
    "print(cum)    "
   ]
  },
  {
   "cell_type": "code",
   "execution_count": 33,
   "metadata": {},
   "outputs": [
    {
     "name": "stdout",
     "output_type": "stream",
     "text": [
      "[0.24398445386430534, 0.3552218946081992, 0.15022984462131356, 0.1564791040368796, 0.09408470286930222]\n",
      "[0, 0.24398445386430534, 0.5992063484725045, 0.749436193093818, 0.9059152971306976, 0.9999999999999999]\n"
     ]
    }
   ],
   "source": []
  },
  {
   "cell_type": "code",
   "execution_count": 67,
   "metadata": {},
   "outputs": [
    {
     "name": "stdout",
     "output_type": "stream",
     "text": [
      "rand_num= [ 0.83137434  0.20066464  0.11458136  0.92274506  0.26825222] exponential= [0.18467511028089978, 1.6061202275727469, 2.1664701432399016, 0.0804022925275727, 1.315827627052725]\n"
     ]
    }
   ],
   "source": [
    "num=5\n",
    "rand=np.random.uniform(0,1,num)\n",
    "s=[]\n",
    "f=0\n",
    "for i in rand:\n",
    "    f=-log(i)\n",
    "    s.append(f)\n",
    "    f=0    \n",
    "\n",
    "     "
   ]
  },
  {
   "cell_type": "code",
   "execution_count": 73,
   "metadata": {},
   "outputs": [
    {
     "data": {
      "text/plain": [
       "-4.605170185988092"
      ]
     },
     "execution_count": 73,
     "metadata": {},
     "output_type": "execute_result"
    }
   ],
   "source": [
    "-log(100)"
   ]
  },
  {
   "cell_type": "code",
   "execution_count": null,
   "metadata": {
    "collapsed": true
   },
   "outputs": [],
   "source": []
  }
 ],
 "metadata": {
  "kernelspec": {
   "display_name": "Python 3",
   "language": "python",
   "name": "python3"
  },
  "language_info": {
   "codemirror_mode": {
    "name": "ipython",
    "version": 3
   },
   "file_extension": ".py",
   "mimetype": "text/x-python",
   "name": "python",
   "nbconvert_exporter": "python",
   "pygments_lexer": "ipython3",
   "version": "3.6.1"
  }
 },
 "nbformat": 4,
 "nbformat_minor": 2
}
