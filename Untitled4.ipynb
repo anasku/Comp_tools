{
 "cells": [
  {
   "cell_type": "markdown",
   "metadata": {},
   "source": [
    "## Sampling descrete distribution"
   ]
  },
  {
   "cell_type": "markdown",
   "metadata": {},
   "source": [
    "\n",
    "\n",
    "We want to sample numbers with random probabilities. For this we generate random numbers $r_i$ using uniform distribution in a range $[0,1]$. \n",
    "\n",
    "To copute the probabilities we use the formula :\n",
    "$$p_i=\\frac{r_i}{\\Sigma_i r_i}\\,.$$  \n",
    "Thus we created a list of random probabilities, to be sure that they are indeed probabilities we sum over all values of $p_i$ and get 1, as it should be. \n",
    "\n",
    "Next step is to sample from this descrete distribution."
   ]
  },
  {
   "cell_type": "code",
   "execution_count": 2,
   "metadata": {},
   "outputs": [
    {
     "name": "stdout",
     "output_type": "stream",
     "text": [
      "time of the procedure 0.0\n",
      "rand p_i= [0.34782696577191591, 0.2928747037924298, 0.11198369309336323, 0.24731463734229114]\n",
      "the sum of p_is is  1.0\n"
     ]
    }
   ],
   "source": [
    "import random\n",
    "import numpy as np\n",
    "import matplotlib.pyplot as plt\n",
    "import time\n",
    "\n",
    "startTime = time.time()\n",
    "n_i=4\n",
    "s=np.random.uniform(0,1,n_i)\n",
    "z=sum(s)\n",
    "proba=[]\n",
    "f=0\n",
    "for i in s:\n",
    "    f += i/z\n",
    "    proba.append(f)\n",
    "    f=0\n",
    "elapsedTime= time.time()-startTime\n",
    "print(\"time of the procedure\",elapsedTime)\n",
    "print(\"rand p_i=\", proba)\n",
    "print(\"the sum of p_is is \", sum(proba))\n"
   ]
  },
  {
   "cell_type": "markdown",
   "metadata": {},
   "source": [
    "### 1.Accept/ reject procedure\n",
    "\n",
    "We sample descrete distribution generated above for $n_{item}=5$. "
   ]
  },
  {
   "cell_type": "code",
   "execution_count": 2,
   "metadata": {},
   "outputs": [
    {
     "name": "stdout",
     "output_type": "stream",
     "text": [
      "sampled_proba= [0.2126, 0.028, 0.2078, 0.1665, 0.0401, 0.0673, 0.1159, 0.1654]\n",
      "theoretical_proba= [0.21555158518850853, 0.027431498677616753, 0.20689889139718146, 0.16105183771716089, 0.040747576980130096, 0.065500674571232917, 0.1166573043888091, 0.1661606310793603]\n"
     ]
    },
    {
     "data": {
      "image/png": "[encoded data removed]",
      "text/plain": [
       "<matplotlib.figure.Figure at 0x1d03d2d10f0>"
      ]
     },
     "metadata": {},
     "output_type": "display_data"
    }
   ],
   "source": [
    "def acc_method(n_runs):\n",
    "    array=[]\n",
    "    f=0\n",
    "    for k in range(n_runs):\n",
    "        while True:\n",
    "            x=n_items*np.random.uniform(0,1)\n",
    "            y=n_items*np.random.uniform(0,1)\n",
    "            i=int(x)\n",
    "            y>proba[i]*n_items\n",
    "            if y<proba[i]*n_items:\n",
    "                break\n",
    "        f += i\n",
    "        array.append(f)\n",
    "        f=0\n",
    "    return array \n",
    "\n",
    "def acc_proba(n_runs):\n",
    "    sampl_proba=[]\n",
    "    p=0\n",
    "    for m in range(n_items):\n",
    "        p=acc_method(n_runs).count(m)/n_runs\n",
    "        sampl_proba.append(p)\n",
    "        p=0\n",
    "    return sampl_proba\n",
    "\n",
    "print(\"sampled_proba=\",acc_proba(10000))\n",
    "print(\"theoretical_proba=\",proba) \n",
    "\n",
    "plt.hist(acc_method(10000),normed=True, bins=list(range(0,n_items+1)),width=0.9,color='orange',label=\"Sampled distribution\")\n",
    "\n",
    "objects = list(range(0,n_items))\n",
    "y_pos = np.arange(len(objects))\n",
    "plt.bar(y_pos, proba, align='edge',color='green',alpha=1,width=0.5,label=\"Theoretical distribution\")\n",
    "plt.xticks(y_pos, objects)\n",
    "plt.xlabel('$i$')\n",
    "plt.ylabel('$P_i$')\n",
    "plt.title('Accept/reject sampling')\n",
    "plt.legend()\n",
    "plt.show()\n",
    "\n"
   ]
  },
  {
   "cell_type": "markdown",
   "metadata": {},
   "source": [
    "### 2.Tower sampling\n"
   ]
  },
  {
   "cell_type": "code",
   "execution_count": 5,
   "metadata": {},
   "outputs": [
    {
     "name": "stdout",
     "output_type": "stream",
     "text": [
      "p_i_sampled= [0.041, 0.203, 0.1508, 0.0832, 0.1352, 0.205, 0.0168, 0.0736, 0.0965]\n",
      "p_i_original= [0.038557672150510834, 0.20106131216511489, 0.14665504706367916, 0.085573600205110956, 0.13897342005210947, 0.20525683172652257, 0.015039284818134251, 0.069770284390608006, 0.099112547428209796]\n"
     ]
    },
    {
     "data": {
      "image/png": "[encoded data removed]",
      "text/plain": [
       "<matplotlib.figure.Figure at 0x1b15245c8d0>"
      ]
     },
     "metadata": {},
     "output_type": "display_data"
    }
   ],
   "source": [
    "def tower_method(n_runs):\n",
    "    cum=[]\n",
    "    f=0\n",
    "    for i in range(n_items+1):\n",
    "        f=sum(proba[:i])\n",
    "        cum.append(f)\n",
    "        f=0        \n",
    "    tower=[]\n",
    "    g=0\n",
    "    for k in range(n_runs):\n",
    "        x=np.random.uniform(0,1)\n",
    "        i=0\n",
    "        while True:\n",
    "            x>cum[i]\n",
    "            i=i+1\n",
    "            if x<cum[i]:\n",
    "                break\n",
    "        g+=i-1\n",
    "        tower.append(g)\n",
    "        g=0\n",
    "    return tower\n",
    "\n",
    "def tower_proba(n_runs):\n",
    "    sampl_tower=[]\n",
    "    p=0\n",
    "    for m in range(n_items):\n",
    "        p=tower_method(n_runs).count(m)/n_runs\n",
    "        sampl_tower.append(p)\n",
    "        p=0\n",
    "    return sampl_tower   \n",
    "print(\"p_i_sampled=\",tower_proba(10000)) \n",
    "print(\"p_i_original=\",proba)\n",
    "plt.hist(tower_method(10000),normed=True, bins=list(range(0,n_items+1)),width=0.9,color='orange',label=\"Sampled distribution\")\n",
    "objects = list(range(0,n_items))\n",
    "y_pos = np.arange(len(objects))\n",
    "plt.bar(y_pos, proba, align='edge',color='green',alpha=1,width=0.5,label=\"Theoretical distribution\")\n",
    "plt.xticks(y_pos, objects)\n",
    "plt.xlabel('$i$')\n",
    "plt.ylabel('$P_i$')\n",
    "plt.title('Tower Sampling')\n",
    "plt.legend()\n",
    "\n",
    "plt.show()\n",
    "\n",
    "\n",
    "\n"
   ]
  },
  {
   "cell_type": "markdown",
   "metadata": {},
   "source": [
    "### 3.Time estimation"
   ]
  },
  {
   "cell_type": "code",
   "execution_count": 12,
   "metadata": {},
   "outputs": [
    {
     "name": "stdout",
     "output_type": "stream",
     "text": [
      "time: 0.001003265380859375\n",
      "sampled_proba= [0.1233, 0.0083, 0.1514, 0.1256, 0.1104, 0.0904, 0.0598, 0.1757, 0.0763, 0.0788]\n",
      "theoretical_proba= [0.12151439953274266, 0.0072257966256834959, 0.15319423602654106, 0.12132696708673414, 0.11715903282952381, 0.092066299908176524, 0.057036804233561875, 0.17259454010692335, 0.083515558461461345, 0.074366365188651848]\n"
     ]
    },
    {
     "data": {
      "image/png": "[encoded data removed]",
      "text/plain": [
       "<matplotlib.figure.Figure at 0x26b9c257860>"
      ]
     },
     "metadata": {},
     "output_type": "display_data"
    }
   ],
   "source": [
    "n_items=10\n",
    "n_points=10000\n",
    "startTime = time.time()\n",
    "def accept(n_runs,n_item):\n",
    "    np.random.seed(2)\n",
    "    s=np.random.uniform(0,1,n_item)\n",
    "    z=sum(s)\n",
    "    rand_proba=[]\n",
    "    f=0\n",
    "    for i in s:\n",
    "        f += i/z\n",
    "        rand_proba.append(f)\n",
    "        f=0 #at this stage we generated random probabilities rand_proba\n",
    "    array=[]\n",
    "    g=0\n",
    "    for k in range(n_runs):\n",
    "        while True:\n",
    "            x=n_item*np.random.uniform(0,1)\n",
    "            y=n_item*np.random.uniform(0,1)\n",
    "            i=int(x)\n",
    "            y>rand_proba[i]*n_item\n",
    "            if y<rand_proba[i]*n_item:\n",
    "                break\n",
    "        g += i\n",
    "        array.append(g)\n",
    "        g=0 #in this part we sampled according to rand_proba\n",
    "    sampl_proba=[]\n",
    "    p=0\n",
    "    for m in range(n_item):\n",
    "        p=array.count(m)/n_runs\n",
    "        sampl_proba.append(p)\n",
    "        p=0#here I calculate the proba_sampled\n",
    "    return {'accept_gen':array,'theor_proba':rand_proba,'accept_proba':sampl_proba}\n",
    "\n",
    "elapsedTime= time.time()-startTime\n",
    "print(\"time:\",elapsedTime)\n",
    "print(\"sampled_proba=\",accept(n_points,n_items)['accept_proba'])\n",
    "print(\"theoretical_proba=\",accept(n_points,n_items)['theor_proba'])\n",
    "\n",
    "plt.hist(accept(n_points,n_items)['accept_gen'],normed=True, \n",
    "         bins=list(range(0,n_items+1)),width=0.9,color='orange',label=\"Sampled distribution\")\n",
    "\n",
    "objects = list(range(0,n_items))\n",
    "y_pos = np.arange(len(objects))\n",
    "plt.bar(y_pos, accept(n_points,n_items)['theor_proba'], \n",
    "        align='edge',color='green',alpha=1,width=0.5,label=\"Theoretical distribution\")\n",
    "plt.xticks(y_pos, objects)\n",
    "plt.xlabel('$i$')\n",
    "plt.ylabel('$P_i$')\n",
    "plt.title('Accept/reject sampling')\n",
    "plt.legend()\n",
    "plt.show()\n",
    "\n",
    "\n",
    "\n"
   ]
  },
  {
   "cell_type": "code",
   "execution_count": 13,
   "metadata": {},
   "outputs": [
    {
     "name": "stdout",
     "output_type": "stream",
     "text": [
      "cumulants [0, 0.12151439953274266, 0.12874019615842616, 0.2819344321849672, 0.40326139927170135, 0.5204204321012251, 0.6124867320094016, 0.6695235362429635, 0.8421180763498868, 0.9256336348113481, 0.9999999999999999]\n",
      "p_i_sampled= [0.1289, 0.0067, 0.1564, 0.1238, 0.1169, 0.0896, 0.0532, 0.167, 0.0815, 0.076]\n",
      "p_i_original= [0.12151439953274266, 0.007225796625683496, 0.15319423602654106, 0.12132696708673414, 0.11715903282952381, 0.09206629990817652, 0.057036804233561875, 0.17259454010692335, 0.08351555846146134, 0.07436636518865185]\n",
      "0.07369685173034668\n"
     ]
    },
    {
     "data": {
      "image/png": "[encoded data removed]",
      "text/plain": [
       "<matplotlib.figure.Figure at 0x26b9bfeb5c0>"
      ]
     },
     "metadata": {},
     "output_type": "display_data"
    }
   ],
   "source": [
    "\n",
    "startTime = time.time()\n",
    "def tower_function(n_runs,n_item):\n",
    "    np.random.seed(2)\n",
    "    s=np.random.uniform(0,1,n_item)\n",
    "    z=sum(s)\n",
    "    rand_p=[]\n",
    "    f=0\n",
    "    for i in s:\n",
    "        f += i/z\n",
    "        rand_p.append(f)\n",
    "        f=0 #at this stage we generated random probabilities rand_proba\n",
    "    rand_proba = [float(j) for j in rand_p]\n",
    "    cum=[]\n",
    "    q=0\n",
    "    for i in range(n_item+1):\n",
    "        q=sum(rand_proba[:i])\n",
    "        cum.append(q)\n",
    "        q=0        \n",
    "    tower=[]\n",
    "    g=0\n",
    "    for k in range(n_runs):\n",
    "        x=np.random.uniform(0,1)\n",
    "        i=0\n",
    "        while True:\n",
    "            x>cum[i]\n",
    "            i=i+1\n",
    "            if x<cum[i]:\n",
    "                break\n",
    "        g+=i-1\n",
    "        tower.append(g)\n",
    "        g=0\n",
    "    sampl_tower=[]\n",
    "    p=0\n",
    "    for m in range(n_item):\n",
    "        p=tower.count(m)/n_runs\n",
    "        sampl_tower.append(p)\n",
    "        p=0\n",
    "    return {'tower_gen':tower,'sampl_tower':sampl_tower,'rand_theor':rand_proba,'cum':cum}  \n",
    "\n",
    "print('cumulants',tower_function(n_points,n_items)['cum'])\n",
    "print(\"p_i_sampled=\",tower_function(n_points,n_items)['sampl_tower']) \n",
    "print(\"p_i_original=\",tower_function(n_points,n_items)['rand_theor'])\n",
    "elapsedTime= time.time()-startTime\n",
    "print(elapsedTime)\n",
    "\n",
    "plt.hist(tower_function(n_points,n_items)['tower_gen'],normed=True, \n",
    "         bins=list(range(0,n_items+1)),width=0.9,color='orange',label=\"Sampled distribution\")\n",
    "\n",
    "objects=[]\n",
    "objects = list(range(0,n_items))\n",
    "y_pos = np.arange(len(objects))\n",
    "plt.bar(y_pos, tower_function(n_points,n_items)['rand_theor'],align='edge',\n",
    "        color='green',alpha=1,width=0.3,label=\"Theoretical distribution\")\n",
    "plt.xticks(y_pos, objects)\n",
    "plt.xlabel('$i$')\n",
    "plt.ylabel('$P_i$')\n",
    "plt.title('Tower Sampling')\n",
    "plt.legend()\n",
    "\n",
    "plt.show()\n",
    "\n"
   ]
  },
  {
   "cell_type": "code",
   "execution_count": null,
   "metadata": {},
   "outputs": [],
   "source": [
    "\n",
    "    "
   ]
  },
  {
   "cell_type": "code",
   "execution_count": null,
   "metadata": {},
   "outputs": [],
   "source": [
    "    "
   ]
  },
  {
   "cell_type": "code",
   "execution_count": null,
   "metadata": {},
   "outputs": [],
   "source": []
  },
  {
   "cell_type": "code",
   "execution_count": null,
   "metadata": {},
   "outputs": [],
   "source": [
    "\n"
   ]
  },
  {
   "cell_type": "code",
   "execution_count": 54,
   "metadata": {},
   "outputs": [
    {
     "name": "stdout",
     "output_type": "stream",
     "text": [
      "[0.34928487476320613, 0.27170521492907457, 0.2070304921829917, 0.15617242103080536, 0.01580699709392207]\n",
      "[0, 0.34928487476320613, 0.6209900896922806, 0.8280205818752724, 0.9841930029060777, 0.9999999999999998]\n"
     ]
    }
   ],
   "source": [
    "s=np.random.uniform(0,1,5)\n",
    "z=sum(s)\n",
    "rand_p=[]\n",
    "f=0\n",
    "for i in s:\n",
    "    f += i/z\n",
    "    rand_p.append(f)\n",
    "    f=0 #at this stage we generated random probabilities rand_proba\n",
    "rand_proba = [float(i) for i in rand_p]\n",
    "print(rand_proba)\n",
    "cum=[]\n",
    "q=0\n",
    "for i in range(5+1):\n",
    "    q=sum(rand_proba[:i])\n",
    "    cum.append(q)\n",
    "    q=0 \n",
    "print(cum)    "
   ]
  },
  {
   "cell_type": "code",
   "execution_count": null,
   "metadata": {
    "collapsed": true
   },
   "outputs": [],
   "source": []
  },
  {
   "cell_type": "code",
   "execution_count": null,
   "metadata": {
    "collapsed": true
   },
   "outputs": [],
   "source": []
  }
 ],
 "metadata": {
  "kernelspec": {
   "display_name": "Python 3",
   "language": "python",
   "name": "python3"
  }
 },
 "nbformat": 4,
 "nbformat_minor": 2
}
