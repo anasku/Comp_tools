{
 "cells": [
  {
   "cell_type": "markdown",
   "metadata": {},
   "source": [
    "### 3. Stat inference and Maximum Likelihood\n",
    "This is a generator to get random numbers from a given distribution."
   ]
  },
  {
   "cell_type": "code",
   "execution_count": 4,
   "metadata": {},
   "outputs": [
    {
     "name": "stdout",
     "output_type": "stream",
     "text": [
      "-lam*exp(-20.0/lam) + lam*exp(-1.0/lam)\n",
      "-lam*exp(-20.0/lam) + lam*exp(-1.0/lam)\n"
     ]
    },
    {
     "data": {
      "image/png": "[encoded data removed]",
      "text/plain": [
       "<matplotlib.figure.Figure at 0x21d72e58eb8>"
      ]
     },
     "metadata": {},
     "output_type": "display_data"
    }
   ],
   "source": [
    "import random                     \n",
    "import matplotlib.pyplot as plt \n",
    "import math\n",
    "from math import exp\n",
    "from math import log\n",
    "import random\n",
    "import numpy as np\n",
    "import matplotlib.mlab as mlab\n",
    "import matplotlib.pyplot as plt\n",
    "import scipy\n",
    "from scipy import stats\n",
    "import sympy\n",
    "from sympy import *\n",
    "\n",
    "\n",
    "\n",
    "x = Symbol('x')\n",
    "lam = Symbol('lam')\n",
    "def Z(lam):\n",
    "    return integrate(exp(-x/lam),(x,1.0,20.0))\n",
    "print(Z(lam))\n",
    "\n",
    "umax=exp(-1/10)/Z(10)\n",
    "umin=exp(-20/10)/Z(10)\n",
    "u = np.random.uniform(umin, umax,size=500)\n",
    "#print(u)\n",
    "\n",
    "lam=10\n",
    "f=0\n",
    "array=[]\n",
    "\n",
    "for s in u:\n",
    "    f += round(-lam*log(s*Z(lam)),10)\n",
    "    array.append(f)\n",
    "    f=0\n",
    "plt.hist(array, normed=True, bins=100)\n",
    "plt.show() \n",
    "\n"
   ]
  },
  {
   "cell_type": "code",
   "execution_count": 53,
   "metadata": {},
   "outputs": [
    {
     "data": {
      "image/png": "[encoded data removed]",
      "text/plain": [
       "<matplotlib.figure.Figure at 0x1e83d259e48>"
      ]
     },
     "metadata": {},
     "output_type": "display_data"
    },
    {
     "name": "stdout",
     "output_type": "stream",
     "text": [
      "lamda_ML =  9.8\n"
     ]
    }
   ],
   "source": [
    "lamda=np.arange(2.0, 20.0 , 0.1)\n",
    "f=0\n",
    "lik=[]\n",
    "for m in lamda:\n",
    "    for s in array:\n",
    "        f += log(exp(-s/m)/(-m*exp(-20.0/m) + m*exp(-1.0/m)))\n",
    "    lik.append(f)\n",
    "    f=0    \n",
    "\n",
    "#print(lik)    \n",
    "plt.plot(lamda,lik,\"-\",lamda[lik.index(max(lik))],max(lik),\"o\")\n",
    "plt.show()\n",
    "print(\"lamda_ML = \",lamda[lik.index(max(lik))])\n",
    "\n"
   ]
  },
  {
   "cell_type": "markdown",
   "metadata": {
    "collapsed": true
   },
   "source": [
    "3.Now assume that we dont know true value of lamda. Generate for different value of lamda some random data from a exponential PDF. Here write the same procedure as before but for each set, question how to use this squared error?"
   ]
  },
  {
   "cell_type": "code",
   "execution_count": 6,
   "metadata": {},
   "outputs": [
    {
     "data": {
      "image/png": "[encoded data removed]",
      "text/plain": [
       "<matplotlib.figure.Figure at 0x21d75680f60>"
      ]
     },
     "metadata": {},
     "output_type": "display_data"
    },
    {
     "data": {
      "image/png": "[encoded data removed]",
      "text/plain": [
       "<matplotlib.figure.Figure at 0x21d75d7def0>"
      ]
     },
     "metadata": {},
     "output_type": "display_data"
    }
   ],
   "source": [
    "umax=exp(-1/5)/Z(5)\n",
    "umin=exp(-20/5)/Z(5)\n",
    "u = np.random.uniform(umin, umax,size=500)\n",
    "\n",
    "lam=5\n",
    "f=0\n",
    "array_a=[]\n",
    "\n",
    "for s in u:\n",
    "    f += round(-lam*log(s*Z(lam)),10)\n",
    "    array_a.append(f)\n",
    "    f=0\n",
    "plt.hist(array_a, normed=True, bins=100)\n",
    "plt.show() \n",
    "\n",
    "umax=exp(-1/15)/Z(15)\n",
    "umin=exp(-20/15)/Z(15)\n",
    "u = np.random.uniform(umin, umax,size=500)\n",
    "\n",
    "lam=15\n",
    "f=0\n",
    "array_b=[]\n",
    "\n",
    "for s in u:\n",
    "    f += round(-lam*log(s*Z(lam)),10)\n",
    "    array_b.append(f)\n",
    "    f=0\n",
    "plt.hist(array_b, normed=True, bins=100)\n",
    "plt.show()"
   ]
  },
  {
   "cell_type": "code",
   "execution_count": null,
   "metadata": {
    "collapsed": true
   },
   "outputs": [],
   "source": []
  }
 ],
 "metadata": {
  "kernelspec": {
   "display_name": "Python 3",
   "language": "python",
   "name": "python3"
  },
  "language_info": {
   "codemirror_mode": {
    "name": "ipython",
    "version": 3
   },
   "file_extension": ".py",
   "mimetype": "text/x-python",
   "name": "python",
   "nbconvert_exporter": "python",
   "pygments_lexer": "ipython3",
   "version": "3.6.1"
  }
 },
 "nbformat": 4,
 "nbformat_minor": 2
}
